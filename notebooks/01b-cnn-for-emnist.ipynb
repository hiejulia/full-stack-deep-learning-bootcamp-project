{
 "cells": [
  {
   "cell_type": "code",
   "execution_count": 1,
   "metadata": {},
   "outputs": [],
   "source": [
    "%load_ext autoreload\n",
    "%autoreload 2\n",
    "\n",
    "%matplotlib inline\n",
    "import matplotlib.pyplot as plt\n",
    "import numpy as np\n",
    "import tensorflow as tf\n",
    "\n",
    "from importlib.util import find_spec\n",
    "if find_spec(\"text_recognizer\") is None:\n",
    "    import sys\n",
    "    sys.path.append('..')\n",
    "\n",
    "from text_recognizer.datasets.emnist_dataset import EmnistDataset"
   ]
  },
  {
   "cell_type": "code",
   "execution_count": 2,
   "metadata": {},
   "outputs": [
    {
     "name": "stdout",
     "output_type": "stream",
     "text": [
      "EMNIST Dataset\n",
      "Num classes: 80\n",
      "Mapping: {0: '0', 1: '1', 2: '2', 3: '3', 4: '4', 5: '5', 6: '6', 7: '7', 8: '8', 9: '9', 10: 'A', 11: 'B', 12: 'C', 13: 'D', 14: 'E', 15: 'F', 16: 'G', 17: 'H', 18: 'I', 19: 'J', 20: 'K', 21: 'L', 22: 'M', 23: 'N', 24: 'O', 25: 'P', 26: 'Q', 27: 'R', 28: 'S', 29: 'T', 30: 'U', 31: 'V', 32: 'W', 33: 'X', 34: 'Y', 35: 'Z', 36: 'a', 37: 'b', 38: 'c', 39: 'd', 40: 'e', 41: 'f', 42: 'g', 43: 'h', 44: 'i', 45: 'j', 46: 'k', 47: 'l', 48: 'm', 49: 'n', 50: 'o', 51: 'p', 52: 'q', 53: 'r', 54: 's', 55: 't', 56: 'u', 57: 'v', 58: 'w', 59: 'x', 60: 'y', 61: 'z', 62: ' ', 63: '!', 64: '\"', 65: '#', 66: '&', 67: \"'\", 68: '(', 69: ')', 70: '*', 71: '+', 72: ',', 73: '-', 74: '.', 75: '/', 76: ':', 77: ';', 78: '?', 79: '_'}\n",
      "Input shape: [28, 28]\n",
      "\n",
      "(84074, 28, 28) (84074, 80)\n",
      "(13947, 28, 28) (13947, 80)\n"
     ]
    }
   ],
   "source": [
    "dataset = EmnistDataset(subsample_fraction=0.25)\n",
    "dataset.load_or_generate_data()\n",
    "print(dataset)\n",
    "print(dataset.x_train.shape, dataset.y_train.shape)\n",
    "print(dataset.x_test.shape, dataset.y_test.shape)"
   ]
  },
  {
   "cell_type": "code",
   "execution_count": 3,
   "metadata": {},
   "outputs": [
    {
     "name": "stdout",
     "output_type": "stream",
     "text": [
      "Model: \"sequential\"\n",
      "_________________________________________________________________\n",
      "Layer (type)                 Output Shape              Param #   \n",
      "=================================================================\n",
      "expand_dims (Lambda)         (None, 28, 28, 1)         0         \n",
      "_________________________________________________________________\n",
      "conv2d (Conv2D)              (None, 28, 28, 32)        320       \n",
      "_________________________________________________________________\n",
      "conv2d_1 (Conv2D)            (None, 28, 28, 64)        18496     \n",
      "_________________________________________________________________\n",
      "max_pooling2d (MaxPooling2D) (None, 14, 14, 64)        0         \n",
      "_________________________________________________________________\n",
      "dropout (Dropout)            (None, 14, 14, 64)        0         \n",
      "_________________________________________________________________\n",
      "flatten (Flatten)            (None, 12544)             0         \n",
      "_________________________________________________________________\n",
      "dense (Dense)                (None, 128)               1605760   \n",
      "_________________________________________________________________\n",
      "dropout_1 (Dropout)          (None, 128)               0         \n",
      "_________________________________________________________________\n",
      "dense_1 (Dense)              (None, 80)                10320     \n",
      "=================================================================\n",
      "Total params: 1,634,896\n",
      "Trainable params: 1,634,896\n",
      "Non-trainable params: 0\n",
      "_________________________________________________________________\n"
     ]
    }
   ],
   "source": [
    "# -------LENET------\n",
    "from text_recognizer.networks.lenet import lenet\n",
    "\n",
    "network = lenet(dataset.input_shape, output_shape=(dataset.num_classes, 1))\n",
    "network.summary()"
   ]
  },
  {
   "cell_type": "code",
   "execution_count": 4,
   "metadata": {},
   "outputs": [
    {
     "name": "stdout",
     "output_type": "stream",
     "text": [
      "Epoch 1/5\n",
      "1314/1314 [==============================] - 20s 15ms/step - loss: 0.2816 - accuracy: 0.9345 - val_loss: 0.0562 - val_accuracy: 0.9833\n",
      "Epoch 2/5\n",
      "1314/1314 [==============================] - 6s 4ms/step - loss: 0.0662 - accuracy: 0.9804 - val_loss: 0.0365 - val_accuracy: 0.9889\n",
      "Epoch 3/5\n",
      "1314/1314 [==============================] - 6s 4ms/step - loss: 0.0466 - accuracy: 0.9860 - val_loss: 0.0352 - val_accuracy: 0.9905\n",
      "Epoch 4/5\n",
      "1314/1314 [==============================] - 6s 4ms/step - loss: 0.0373 - accuracy: 0.9889 - val_loss: 0.0292 - val_accuracy: 0.9915\n",
      "Epoch 5/5\n",
      "1314/1314 [==============================] - 6s 4ms/step - loss: 0.0289 - accuracy: 0.9910 - val_loss: 0.0306 - val_accuracy: 0.9916\n"
     ]
    },
    {
     "data": {
      "text/plain": [
       "<tensorflow.python.keras.callbacks.History at 0x7f886c072150>"
      ]
     },
     "execution_count": 4,
     "metadata": {},
     "output_type": "execute_result"
    }
   ],
   "source": [
    "network.compile(optimizer='sgd', loss='categorical_crossentropy', metrics='accuracy')\n",
    "network.fit(\n",
    "    x=dataset.x_train,\n",
    "    y=dataset.y_train,\n",
    "    batch_size=64,\n",
    "    epochs=5,\n",
    "    validation_data=(dataset.x_test, dataset.y_test)\n",
    ")"
   ]
  },
  {
   "cell_type": "code",
   "execution_count": 15,
   "metadata": {},
   "outputs": [
    {
     "name": "stdout",
     "output_type": "stream",
     "text": [
      "(1, 28, 28, 1)\n",
      "[[9.99999881e-01 8.04929214e-12 7.04592438e-08 1.50007502e-12\n",
      "  2.19322199e-11 1.06680595e-10 1.00794795e-09 1.53098159e-11\n",
      "  1.44311104e-13 2.55953690e-16 7.89550852e-14 4.83885994e-15\n",
      "  1.83673610e-15 6.49945048e-18 5.02020758e-16 5.86758376e-12\n",
      "  1.82197581e-16 8.72858219e-15 1.71123361e-18 9.04258917e-16\n",
      "  1.90967135e-14 2.65879655e-17 6.61706321e-16 2.67261456e-18\n",
      "  2.62863665e-14 3.56004904e-17 2.56579595e-14 7.47674977e-16\n",
      "  6.07827336e-17 2.06184588e-16 2.58166172e-14 1.26347041e-18\n",
      "  2.54738192e-15 3.23505943e-19 2.34137969e-11 1.45513349e-14\n",
      "  1.71233809e-13 2.57681849e-16 1.28874049e-12 5.36686682e-15\n",
      "  4.88973393e-17 1.05590820e-15 2.28668360e-15 8.28977197e-19\n",
      "  2.82996537e-14 1.03052781e-15 2.33458899e-14 2.41450066e-15\n",
      "  7.87818991e-15 1.53353580e-11 4.72213093e-17 1.79844153e-17\n",
      "  1.31031984e-15 1.16631834e-12 7.82538006e-16 1.11099817e-15\n",
      "  1.69132320e-14 8.32786933e-19 8.21636186e-17 2.01583333e-11\n",
      "  7.76110720e-16 2.75385454e-20 1.01259130e-14 6.19342633e-18\n",
      "  7.20859830e-12 6.39739633e-17 1.68899969e-13 4.98640673e-16\n",
      "  3.47947801e-17 1.07689864e-11 1.68758593e-17 1.48350991e-19\n",
      "  2.83468417e-16 3.62903378e-16 3.56404802e-11 5.07289273e-18\n",
      "  6.97691443e-17 8.91541352e-16 2.66899458e-13 1.19877016e-17]]\n",
      "0\n",
      "0\n"
     ]
    },
    {
     "data": {
      "image/png": "[encoded data removed]",
      "text/plain": [
       "<Figure size 288x288 with 1 Axes>"
      ]
     },
     "metadata": {
      "needs_background": "light"
     },
     "output_type": "display_data"
    }
   ],
   "source": [
    "x_example = dataset.x_test[0:1]\n",
    "plt.matshow(x_example[0])\n",
    "\n",
    "x_example = np.expand_dims(x_example, -1)\n",
    "print(x_example.shape)\n",
    "preds = network.predict(x_example)\n",
    "print(preds)\n",
    "\n",
    "ind = np.argmax(preds)\n",
    "print(ind)\n",
    "\n",
    "print(dataset.mapping[ind])"
   ]
  }
 ],
 "metadata": {
  "kernelspec": {
   "display_name": "Python 3.7.7 64-bit ('fsdl-text-recognizer': conda)",
   "language": "python",
   "name": "python37764bitfsdltextrecognizercondadeddc9485e524fe5bef8d396f447eae4"
  },
  "language_info": {
   "codemirror_mode": {
    "name": "ipython",
    "version": 3
   },
   "file_extension": ".py",
   "mimetype": "text/x-python",
   "name": "python",
   "nbconvert_exporter": "python",
   "pygments_lexer": "ipython3",
   "version": "3.7.7"
  }
 },
 "nbformat": 4,
 "nbformat_minor": 4
}